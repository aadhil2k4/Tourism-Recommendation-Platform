{
 "cells": [
  {
   "cell_type": "code",
   "execution_count": 16,
   "metadata": {
    "vscode": {
     "languageId": "plaintext"
    }
   },
   "outputs": [],
   "source": [
    "import numpy as np\n",
    "import tensorflow as tf\n",
    "import pandas as pd\n",
    "import json\n",
    "import pickle\n",
    "from sklearn.preprocessing import LabelEncoder, MinMaxScaler"
   ]
  },
  {
   "cell_type": "code",
   "execution_count": 17,
   "metadata": {},
   "outputs": [
    {
     "name": "stderr",
     "output_type": "stream",
     "text": [
      "WARNING:absl:Compiled the loaded model, but the compiled metrics have yet to be built. `model.compile_metrics` will be empty until you train or evaluate the model.\n"
     ]
    }
   ],
   "source": [
    "model = tf.keras.models.load_model(\"tourism_recommender.h5\")"
   ]
  },
  {
   "cell_type": "code",
   "execution_count": 18,
   "metadata": {},
   "outputs": [],
   "source": [
    "with open(\"scaler.pkl\", \"rb\") as f:\n",
    "    scaler = pickle.load(f)"
   ]
  },
  {
   "cell_type": "code",
   "execution_count": 19,
   "metadata": {},
   "outputs": [],
   "source": [
    "with open(\"label_encoders.pkl\", \"rb\") as f:\n",
    "    label_encoders = pickle.load(f)"
   ]
  },
  {
   "cell_type": "code",
   "execution_count": 20,
   "metadata": {},
   "outputs": [],
   "source": [
    "with open(\"destination_mapping.json\", \"r\") as f:\n",
    "    destination_mapping = json.load(f)\n",
    "reverse_mapping = {v: k for k, v in destination_mapping.items()}"
   ]
  },
  {
   "cell_type": "code",
   "execution_count": 21,
   "metadata": {},
   "outputs": [],
   "source": [
    "def preprocess_input(user_input):\n",
    "    categorical_cols = [\"Climate Type\", \"Best Visiting Season\", \"Budget Level\", \"Crime Index\"]\n",
    "    numeric_cols = [\"User Ratings (out of 5)\", \"Social Media Mentions\", \"Number of Reviews\"]\n",
    "    \n",
    "    processed_input = {}\n",
    "\n",
    "    # Encode categorical inputs safely\n",
    "    for col in categorical_cols:\n",
    "        if user_input[col] in label_encoders[col].classes_:\n",
    "            processed_input[col] = label_encoders[col].transform([user_input[col]])[0]\n",
    "        else:\n",
    "            print(f\"Warning: '{user_input[col]}' is not in training data for {col}. Assigning most frequent category.\")\n",
    "            processed_input[col] = label_encoders[col].transform([label_encoders[col].classes_[0]])[0]  # Use most common category\n",
    "\n",
    "    # Convert to DataFrame and add numeric values\n",
    "    df_input = pd.DataFrame([processed_input])\n",
    "\n",
    "    # Ensure correct dtype for numeric values\n",
    "    for col in numeric_cols:\n",
    "        df_input[col] = float(user_input[col])\n",
    "\n",
    "    # Scale numeric features\n",
    "    df_input[numeric_cols] = scaler.transform(df_input[numeric_cols])\n",
    "\n",
    "    # Ensure the final feature order matches model training\n",
    "    final_feature_order = categorical_cols + numeric_cols\n",
    "    return df_input[final_feature_order].values.astype(np.float32)"
   ]
  },
  {
   "cell_type": "code",
   "execution_count": 22,
   "metadata": {},
   "outputs": [],
   "source": [
    "user_input = {\n",
    "    \"Climate Type\": \"Tropical\",\n",
    "    \"Best Visiting Season\": \"Winter\",\n",
    "    \"Budget Level\": \"Medium\",\n",
    "    \"Crime Index\": \"Low\",\n",
    "    \"User Ratings (out of 5)\": 4.5,\n",
    "    \"Social Media Mentions\": 100000,\n",
    "    \"Number of Reviews\": 2000\n",
    "}"
   ]
  },
  {
   "cell_type": "code",
   "execution_count": 23,
   "metadata": {},
   "outputs": [
    {
     "name": "stdout",
     "output_type": "stream",
     "text": [
      "Warning: 'Tropical' is not in training data for Climate Type. Assigning most frequent category.\n",
      "Warning: 'Winter' is not in training data for Best Visiting Season. Assigning most frequent category.\n",
      "Warning: 'Medium' is not in training data for Budget Level. Assigning most frequent category.\n",
      "Warning: 'Low' is not in training data for Crime Index. Assigning most frequent category.\n"
     ]
    }
   ],
   "source": [
    "X_new = preprocess_input(user_input)"
   ]
  },
  {
   "cell_type": "code",
   "execution_count": null,
   "metadata": {},
   "outputs": [],
   "source": []
  }
 ],
 "metadata": {
  "kernelspec": {
   "display_name": "Python 3 (ipykernel)",
   "language": "python",
   "name": "python3"
  },
  "language_info": {
   "codemirror_mode": {
    "name": "ipython",
    "version": 3
   },
   "file_extension": ".py",
   "mimetype": "text/x-python",
   "name": "python",
   "nbconvert_exporter": "python",
   "pygments_lexer": "ipython3",
   "version": "3.11.7"
  }
 },
 "nbformat": 4,
 "nbformat_minor": 4
}
